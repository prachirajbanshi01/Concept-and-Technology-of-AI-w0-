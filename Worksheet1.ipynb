{
 "cells": [
  {
   "cell_type": "markdown",
   "metadata": {
    "id": "3dOiSzJ3rcBu"
   },
   "source": [
    "Problem 1 : Array Creation"
   ]
  },
  {
   "cell_type": "code",
   "execution_count": null,
   "metadata": {
    "colab": {
     "base_uri": "https://localhost:8080/"
    },
    "id": "ocU8RPkCTZeD",
    "outputId": "76edeff0-2f74-4905-8fc0-33f55e1bb7cb"
   },
   "outputs": [
    {
     "name": "stdout",
     "output_type": "stream",
     "text": [
      "Empty Array(2X2):\n",
      "[[4.9e-324 9.9e-324]\n",
      " [1.5e-323 2.0e-323]]\n",
      "Dimension: 2\n",
      "Data type: float64\n",
      "\n",
      "\n",
      "Array(4X2): \n",
      "[[1. 1.]\n",
      " [1. 1.]\n",
      " [1. 1.]\n",
      " [1. 1.]]\n",
      "\n",
      "Array with shape and type: \n",
      "[[555 555]\n",
      " [555 555]\n",
      " [555 555]\n",
      " [555 555]]\n",
      "\n",
      "New Array with zeros: \n",
      "[[0 0]\n",
      " [0 0]\n",
      " [0 0]\n",
      " [0 0]]\n",
      "\n",
      "New Array with ones: \n",
      "[[1 1]\n",
      " [1 1]\n",
      " [1 1]\n",
      " [1 1]]\n",
      "\n",
      "List -> Array:\n",
      "[1 2 3 4]\n"
     ]
    }
   ],
   "source": [
    "# Problem - 1: Array Creation\n",
    "\n",
    "import numpy as np\n",
    "#1\n",
    "array_2d = np.empty((2,2))\n",
    "print(f\"Empty Array(2X2):\\n{array_2d}\\nDimension: {array_2d.ndim}\\nData type: {array_2d.dtype}\\n\")\n",
    "print()\n",
    "\n",
    "#2\n",
    "array_1 = np.ones((4,2))\n",
    "print(\"Array(4X2): \")\n",
    "print(array_1)\n",
    "print()\n",
    "\n",
    "#3\n",
    "array_2 = np.full((4,2), fill_value = 555)\n",
    "print(\"Array with shape and type: \")\n",
    "print(array_2)\n",
    "print()\n",
    "\n",
    "#4\n",
    "array_4 = np.zeros_like(array_2)\n",
    "print(\"New Array with zeros: \")\n",
    "print(array_4)\n",
    "print()\n",
    "\n",
    "#5\n",
    "array_5 = np.ones_like(array_4)\n",
    "print(\"New Array with ones: \")\n",
    "print(array_5)\n",
    "print()\n",
    "\n",
    "#6\n",
    "new_list = [1,2,3,4]\n",
    "array_list = np.array(new_list)\n",
    "print(\"List -> Array:\")\n",
    "print(array_list)"
   ]
  },
  {
   "cell_type": "markdown",
   "metadata": {
    "id": "U5sfq8__rgSs"
   },
   "source": [
    "Problem 2 : Array Manipulation: Numerical Ranges and Array Indexing"
   ]
  },
  {
   "cell_type": "code",
   "execution_count": 3,
   "metadata": {
    "colab": {
     "base_uri": "https://localhost:8080/"
    },
    "id": "8GyswGtkUHFb",
    "outputId": "a2d1db39-959c-4d42-fc14-d887745d67ed"
   },
   "outputs": [
    {
     "name": "stdout",
     "output_type": "stream",
     "text": [
      "Array with range (10-49)\n",
      "[10 11 12 13 14 15 16 17 18 19 20 21 22 23 24 25 26 27 28 29 30 31 32 33\n",
      " 34 35 36 37 38 39 40 41 42 43 44 45 46 47 48]\n",
      "\n",
      "Array with range (0-8) & size 3X3\n",
      "[[0 1 2]\n",
      " [3 4 5]\n",
      " [6 7 8]]\n",
      "\n",
      "Identity 3X3 matrix\n",
      "[[1. 0. 0.]\n",
      " [0. 1. 0.]\n",
      " [0. 0. 1.]]\n",
      "\n",
      "Random aray (size: 30)\n",
      "[0.29814207 0.01955648 0.97930342 0.01591601 0.01735151 0.78749363\n",
      " 0.90325048 0.51062037 0.84973657 0.9577911  0.85011391 0.58729017\n",
      " 0.2928505  0.21187995 0.4150156  0.47058228 0.65444926 0.20656518\n",
      " 0.51102619 0.14512654 0.51078191 0.1326108  0.92331765 0.16407946\n",
      " 0.84358071 0.09766039 0.28293729 0.24996781 0.44008417 0.33044342]\n",
      "Mean of the array:  0.45531749493045215\n",
      "\n",
      "Random array (size: 10X10)\n",
      "[[0.49326896 0.20337159 0.95195452 0.34491264 0.33320569 0.77408654\n",
      "  0.98615682 0.9949066  0.01007825 0.11208359]\n",
      " [0.73702471 0.71857721 0.41334048 0.61331827 0.33807159 0.48056892\n",
      "  0.80837027 0.12374245 0.55921384 0.59532011]\n",
      " [0.89832096 0.96044389 0.10164454 0.95152018 0.94493228 0.72486586\n",
      "  0.03246686 0.8612576  0.58880965 0.72479199]\n",
      " [0.37930364 0.78698515 0.82291293 0.44120846 0.69690023 0.61335445\n",
      "  0.48024024 0.38029138 0.78914751 0.60173803]\n",
      " [0.11133698 0.03722761 0.16988767 0.21653355 0.11753751 0.02519498\n",
      "  0.84080287 0.77805557 0.05866444 0.85146987]\n",
      " [0.62728278 0.60487137 0.79473557 0.60087123 0.4745458  0.15275884\n",
      "  0.41239462 0.09717891 0.8330966  0.16657439]\n",
      " [0.98231938 0.38912533 0.91141696 0.60962537 0.6418415  0.9134153\n",
      "  0.59802962 0.64833895 0.22759197 0.23540516]\n",
      " [0.03585366 0.63062215 0.2751009  0.23207819 0.00301332 0.86301186\n",
      "  0.65469559 0.02801066 0.5184862  0.15877366]\n",
      " [0.40186765 0.05100711 0.96996031 0.39360797 0.66950804 0.89541821\n",
      "  0.79022074 0.22683707 0.83316958 0.22020064]\n",
      " [0.79129203 0.70031207 0.87322765 0.0300757  0.61151253 0.44607623\n",
      "  0.79596421 0.95623896 0.09518745 0.56018142]]\n",
      "Maximum value:  0.9949065954294157\n",
      "Minimum value:  0.003013319261784164\n",
      "\n",
      "Zero array (size:10)\n",
      "[0. 0. 0. 0. 0. 0. 0. 0. 0. 0.]\n",
      "Updated array with fifth value 1\n",
      "[0. 0. 0. 0. 1. 0. 0. 0. 0. 0.]\n",
      "\n",
      "Given array\n",
      "[1, 2, 0, 0, 4, 0]\n",
      "Reversed\n",
      "[0 4 0 0 2 1]\n",
      "\n",
      "[[1, 0, 0, 1], [1, 2, 3, 4]]\n",
      "\n",
      "2-dimension array with border 1\n",
      "[[1 1 1 1 1 1]\n",
      " [1 1 0 0 1 1]\n",
      " [1 1 2 3 4 1]\n",
      " [1 1 1 1 1 1]]\n",
      "\n"
     ]
    }
   ],
   "source": [
    "# Problem - 2 : Array Manipulation: Numerical Ranges and Array Indexing\n",
    "\n",
    "import numpy as np\n",
    "\n",
    "#1\n",
    "array_1 = np.arange(10,49)\n",
    "print(\"Array with range (10-49)\")\n",
    "print(array_1)\n",
    "print()\n",
    "\n",
    "#2\n",
    "array_2 = np.arange(9).reshape((3,3))\n",
    "print(\"Array with range (0-8) & size 3X3\")\n",
    "print(array_2)\n",
    "print()\n",
    "\n",
    "#3\n",
    "array_3 = np.eye(3,3)\n",
    "print(\"Identity 3X3 matrix\")\n",
    "print(array_3)\n",
    "print()\n",
    "\n",
    "#4\n",
    "array_4 = np.random.rand(30)\n",
    "mean = np.mean(array_4)\n",
    "print(\"Random aray (size: 30)\")\n",
    "print(array_4)\n",
    "print(\"Mean of the array: \",mean)\n",
    "print()\n",
    "\n",
    "#5\n",
    "array_5 = np.random.rand(10,10)\n",
    "max_value = np.max(array_5)\n",
    "min_value = np.min(array_5)\n",
    "print(\"Random array (size: 10X10)\")\n",
    "print(array_5)\n",
    "print(\"Maximum value: \",max_value)\n",
    "print(\"Minimum value: \",min_value)\n",
    "print()\n",
    "\n",
    "#6\n",
    "array_6 = np.zeros(10)\n",
    "print(\"Zero array (size:10)\")\n",
    "print(array_6)\n",
    "\n",
    "array_6[4] = 1\n",
    "print(\"Updated array with fifth value 1\")\n",
    "print(array_6)\n",
    "print()\n",
    "\n",
    "#7\n",
    "arr = [1,2,0,0,4,0]\n",
    "print(\"Given array\")\n",
    "print(arr)\n",
    "array_7 = np.flip(arr)\n",
    "print(\"Reversed\")\n",
    "print(array_7)\n",
    "print()\n",
    "\n",
    "#8\n",
    "array1 = [[1,0,0,1],[1,2,3,4]]\n",
    "print(array1)\n",
    "print()\n",
    "arr1 = np.pad(array1, pad_width=1, mode='constant', constant_values=1)\n",
    "print(\"2-dimension array with border 1\")\n",
    "print(arr1)\n",
    "print()\n"
   ]
  },
  {
   "cell_type": "code",
   "execution_count": 4,
   "metadata": {
    "colab": {
     "base_uri": "https://localhost:8080/"
    },
    "id": "mEa73CQBDxUF",
    "outputId": "3b033700-5edb-471a-de18-00f1844b19a0"
   },
   "outputs": [
    {
     "name": "stdout",
     "output_type": "stream",
     "text": [
      "Checkerboard pattern(8X8)\n",
      "[[0. 1. 0. 1. 0. 1. 0.]\n",
      " [1. 0. 1. 0. 1. 0. 1.]\n",
      " [0. 1. 0. 1. 0. 1. 0.]\n",
      " [1. 0. 1. 0. 1. 0. 1.]\n",
      " [0. 1. 0. 1. 0. 1. 0.]\n",
      " [1. 0. 1. 0. 1. 0. 1.]\n",
      " [0. 1. 0. 1. 0. 1. 0.]\n",
      " [1. 0. 1. 0. 1. 0. 1.]]\n"
     ]
    }
   ],
   "source": [
    "#9 : CheckerBoard Pattern\n",
    "\n",
    "#initialize 8X7  array filled with zeros\n",
    "arr = np.zeros((8,7))\n",
    "\n",
    "#(1::2) -> take every second element from rows starting from index 1 -> (1,3,5,7)\n",
    "#(::2) -> take every element from column from index 0 -> (0,2,4,6)\n",
    "arr[1::2, ::2] = 1\n",
    "\n",
    "#(::2) -> take every second element from row from index 0 -> (0,2,4,6)\n",
    "#(1::2) -> take every element from column from index 0 -> (1,3,5,7)\n",
    "arr[::2, 1::2] = 1\n",
    "\n",
    "#print out the result\n",
    "print(\"Checkerboard pattern(8X8)\")\n",
    "print(arr)\n"
   ]
  },
  {
   "cell_type": "markdown",
   "metadata": {
    "id": "K2U4AyP3rmgb"
   },
   "source": [
    "Problem 3 : Array Operations"
   ]
  },
  {
   "cell_type": "code",
   "execution_count": null,
   "metadata": {
    "colab": {
     "base_uri": "https://localhost:8080/"
    },
    "id": "EFL-aAE_h_RQ",
    "outputId": "1356222b-49a2-4e41-d234-eb57f492fccb"
   },
   "outputs": [
    {
     "name": "stdout",
     "output_type": "stream",
     "text": [
      "Array X\n",
      "[[1 2]\n",
      " [3 5]]\n",
      "Array Y\n",
      "[[5 6]\n",
      " [7 8]]\n",
      "Sum of X and Y\n",
      "[[ 6  8]\n",
      " [10 13]]\n"
     ]
    }
   ],
   "source": [
    "# Problem -3 : Array Operations\n",
    "\n",
    "#1\n",
    "x = np.array([[1,2],[3,5]])\n",
    "y = np.array([[5,6], [7,8]])\n",
    "print(\"Array X\")\n",
    "print(x)\n",
    "print(\"Array Y\")\n",
    "print(y)\n",
    "\n",
    "add1 = np.add(x,y)\n",
    "print(\"Sum of X and Y:\")\n",
    "print(add1)"
   ]
  },
  {
   "cell_type": "code",
   "execution_count": null,
   "metadata": {
    "colab": {
     "base_uri": "https://localhost:8080/"
    },
    "id": "t5YrhogqkmcW",
    "outputId": "2ea8cd57-dd6e-4d48-d280-c46506efbea8"
   },
   "outputs": [
    {
     "name": "stdout",
     "output_type": "stream",
     "text": [
      "Subtraction between X and Y\n",
      "[[-4 -4]\n",
      " [-4 -3]]\n"
     ]
    }
   ],
   "source": [
    "#2\n",
    "x = np.array([[1,2],[3,5]])\n",
    "y = np.array([[5,6], [7,8]])\n",
    "\n",
    "sub1 = np.subtract(x,y)\n",
    "print(\"Subtraction between X and Y:\")\n",
    "print(sub1)\n"
   ]
  },
  {
   "cell_type": "code",
   "execution_count": null,
   "metadata": {
    "colab": {
     "base_uri": "https://localhost:8080/"
    },
    "id": "JeJ013HAlB5p",
    "outputId": "889e5dcd-b866-4a31-d2fd-01bc60e15674"
   },
   "outputs": [
    {
     "name": "stdout",
     "output_type": "stream",
     "text": [
      "Multiplying array-X by 2: \n",
      "[[ 2  4]\n",
      " [ 6 10]]\n"
     ]
    }
   ],
   "source": [
    "#3\n",
    "x = np.array([[1,2],[3,5]])\n",
    "mul1 = np.multiply(2, x)\n",
    "print(\"Multiplying array-X by 2: \")\n",
    "print(mul1)"
   ]
  },
  {
   "cell_type": "code",
   "execution_count": null,
   "metadata": {
    "colab": {
     "base_uri": "https://localhost:8080/"
    },
    "id": "nPV-_wsGlM9j",
    "outputId": "ccc5cd16-2f89-42b5-e0dc-8a09ff52c23b"
   },
   "outputs": [
    {
     "name": "stdout",
     "output_type": "stream",
     "text": [
      "Square of array-X: \n",
      "[[ 1  4]\n",
      " [ 9 25]]\n"
     ]
    }
   ],
   "source": [
    "#4\n",
    "x = np.array([[1,2],[3,5]])\n",
    "square = np.square(x)\n",
    "print(\"Square of array-X: \")\n",
    "print(square)"
   ]
  },
  {
   "cell_type": "code",
   "execution_count": null,
   "metadata": {
    "colab": {
     "base_uri": "https://localhost:8080/"
    },
    "id": "5z-o6QBMlemW",
    "outputId": "f11f2ba1-ad55-4ba9-ad11-244c318b9e32"
   },
   "outputs": [
    {
     "name": "stdout",
     "output_type": "stream",
     "text": [
      "Dot product between X and Y:\n",
      "[[19 22]\n",
      " [50 58]]\n",
      "Dot product between V and W:\n",
      "219\n",
      "Dot product between X and V:\n",
      "[29 77]\n"
     ]
    }
   ],
   "source": [
    "#5\n",
    "x = np.array([[1,2],[3,5]])\n",
    "y = np.array([[5,6],[7,8]])\n",
    "dot1 = np.dot(x,y)\n",
    "print(\"Dot product between X and Y:\")\n",
    "print(dot1)\n",
    "\n",
    "v = np.array([9,10])\n",
    "w = np.array([11,12])\n",
    "dot2 = np.dot(v,w)\n",
    "print(\"Dot product between V and W:\")\n",
    "print(dot2)\n",
    "\n",
    "dot3 = np.dot(x,v)\n",
    "print(\"Dot product between X and V:\")\n",
    "print(dot3)"
   ]
  },
  {
   "cell_type": "code",
   "execution_count": null,
   "metadata": {
    "colab": {
     "base_uri": "https://localhost:8080/"
    },
    "id": "2x5Ed--qlyc1",
    "outputId": "c33dda9a-1546-45bc-f861-1198bfbc3f4c"
   },
   "outputs": [
    {
     "name": "stdout",
     "output_type": "stream",
     "text": [
      "Concatenate X and Y(along column):\n",
      "[[1 2 5 6]\n",
      " [3 5 7 8]]\n",
      "Concatenate V and W(along column):\n",
      "[ 9 10 11 12]\n"
     ]
    }
   ],
   "source": [
    "#6\n",
    "x = np.array([[1,2],[3,5]])\n",
    "y = np.array([[5,6],[7,8]])\n",
    "\n",
    "v = np.array([9,10])\n",
    "w = np.array([11,12])\n",
    "\n",
    "concate1 = np.concatenate((x,y), axis = 1)\n",
    "print(\"Concatenate X and Y(along column):\")\n",
    "print(concate1)\n",
    "\n",
    "concate2 = np.concatenate((v,w), axis = 0)\n",
    "print(\"Concatenate V and W(along column):\")\n",
    "print(concate2)"
   ]
  },
  {
   "cell_type": "code",
   "execution_count": null,
   "metadata": {
    "colab": {
     "base_uri": "https://localhost:8080/",
     "height": 176
    },
    "id": "k-w6mdP-mum4",
    "outputId": "3b9fe0b0-69f0-4d59-f19c-07f48e7b1e12"
   },
   "outputs": [
    {
     "ename": "ValueError",
     "evalue": "all the input arrays must have same number of dimensions, but the array at index 0 has 2 dimension(s) and the array at index 1 has 1 dimension(s)",
     "output_type": "error",
     "traceback": [
      "\u001b[0;31m---------------------------------------------------------------------------\u001b[0m",
      "\u001b[0;31mValueError\u001b[0m                                Traceback (most recent call last)",
      "\u001b[0;32m<ipython-input-94-3ed9cf580d9a>\u001b[0m in \u001b[0;36m<cell line: 2>\u001b[0;34m()\u001b[0m\n\u001b[1;32m      1\u001b[0m \u001b[0;31m#8\u001b[0m\u001b[0;34m\u001b[0m\u001b[0;34m\u001b[0m\u001b[0m\n\u001b[0;32m----> 2\u001b[0;31m \u001b[0mconcate3\u001b[0m \u001b[0;34m=\u001b[0m \u001b[0mnp\u001b[0m\u001b[0;34m.\u001b[0m\u001b[0mconcatenate\u001b[0m\u001b[0;34m(\u001b[0m\u001b[0;34m(\u001b[0m\u001b[0mx\u001b[0m\u001b[0;34m,\u001b[0m\u001b[0mv\u001b[0m\u001b[0;34m)\u001b[0m\u001b[0;34m)\u001b[0m\u001b[0;34m\u001b[0m\u001b[0;34m\u001b[0m\u001b[0m\n\u001b[0m",
      "\u001b[0;31mValueError\u001b[0m: all the input arrays must have same number of dimensions, but the array at index 0 has 2 dimension(s) and the array at index 1 has 1 dimension(s)"
     ]
    }
   ],
   "source": [
    "#8\n",
    "x = np.array([[1,2],[3,5]])\n",
    "v = np.array([9,10])\n",
    "concate3 = np.concatenate((x,v))\n",
    "\n",
    "#ValueError: all the input arrays must have same number of dimensions\n",
    "#here, x array has 2-dimensions while v has a 1-dimension"
   ]
  },
  {
   "cell_type": "markdown",
   "metadata": {
    "id": "HAyB92i5rqzN"
   },
   "source": [
    "Problem 4 : Matrix Operations"
   ]
  },
  {
   "cell_type": "code",
   "execution_count": null,
   "metadata": {
    "colab": {
     "base_uri": "https://localhost:8080/"
    },
    "id": "Uq-gx6_xnHvU",
    "outputId": "487fab10-a1b2-4c57-f983-1102d45a151e"
   },
   "outputs": [
    {
     "name": "stdout",
     "output_type": "stream",
     "text": [
      "Matrix A:\n",
      "[[3 4]\n",
      " [7 8]]\n",
      "\n",
      "Inverse of A:\n",
      "[[-2.    1.  ]\n",
      " [ 1.75 -0.75]]\n",
      "\n",
      "A * A^(-1):\n",
      "[[1.00000000e+00 0.00000000e+00]\n",
      " [1.77635684e-15 1.00000000e+00]]\n",
      "\n",
      "Is A * A^(-1) equal to Identity matrix?: True\n"
     ]
    }
   ],
   "source": [
    "#Problem - 4 : Matrix Operations\n",
    "\n",
    "#1 : Prove A*A^(-1) = I\n",
    "\n",
    "A = np.array([[3,4], [7,8]])\n",
    "B = np.array([[5,3], [2,1]])\n",
    "\n",
    "inverse_A = np.linalg.inv(A)\n",
    "\n",
    "dot_A = np.dot(A, inverse_A)\n",
    "\n",
    "I = np.eye(A.shape[0])\n",
    "\n",
    "check = np.allclose(dot_A, I)\n",
    "\n",
    "print(\"Matrix A:\")\n",
    "print(A)\n",
    "print(\"\\nInverse of A:\")\n",
    "print(inverse_A)\n",
    "print(\"\\nA * A^(-1):\")\n",
    "print(dot_A)\n",
    "print(\"\\nIs A * A^(-1) equal to Identity matrix?:\", check)\n",
    "\n"
   ]
  },
  {
   "cell_type": "code",
   "execution_count": null,
   "metadata": {
    "colab": {
     "base_uri": "https://localhost:8080/"
    },
    "id": "4fuL13b0oS2r",
    "outputId": "1265371b-a0b6-4b23-fe82-45a45a9d9698"
   },
   "outputs": [
    {
     "name": "stdout",
     "output_type": "stream",
     "text": [
      "A*B: \n",
      "[[23 13]\n",
      " [51 29]]\n",
      "\n",
      "B*A: \n",
      "[[36 44]\n",
      " [13 16]]\n",
      "\n",
      "Is A*B equal to B*A?  False\n"
     ]
    }
   ],
   "source": [
    "#2 : Prove A*B != B*A\n",
    "\n",
    "A = np.array([[3,4], [7,8]])\n",
    "B = np.array([[5,3], [2,1]])\n",
    "\n",
    "dot_AB = np.dot(A, B)\n",
    "\n",
    "dot_BA = np.dot(B, A)\n",
    "\n",
    "check = np.array_equal(dot_AB, dot_BA)\n",
    "\n",
    "print(\"A*B: \")\n",
    "print(dot_AB)\n",
    "print(\"\\nB*A: \")\n",
    "print(dot_BA)\n",
    "print(\"\\nIs A*B equal to B*A? \",check)\n"
   ]
  },
  {
   "cell_type": "code",
   "execution_count": null,
   "metadata": {
    "colab": {
     "base_uri": "https://localhost:8080/"
    },
    "id": "XlNJVZI6h24h",
    "outputId": "2ddd203d-db06-4d9a-9dcb-9573fda28bd4"
   },
   "outputs": [
    {
     "name": "stdout",
     "output_type": "stream",
     "text": [
      "(A*B)^T :\n",
      "[[23 51]\n",
      " [13 29]]\n",
      "\n",
      "(B^T)*(A^T):\n",
      "[[23 51]\n",
      " [13 29]]\n",
      "\n",
      "Is (AB)^T equal to B^T*A^T?:  True\n"
     ]
    }
   ],
   "source": [
    "#3 : Prove (A*B)^T = (B^T)*(A^T)\n",
    "\n",
    "A = np.array([[3,4], [7,8]])\n",
    "B = np.array([[5,3], [2,1]])\n",
    "\n",
    "transpose_AB = np.transpose(np.dot(A,B))\n",
    "\n",
    "transpose_A = A.T\n",
    "\n",
    "transpose_B = B.T\n",
    "\n",
    "transpose_BA = np.dot(transpose_B, transpose_A)\n",
    "\n",
    "check = np.allclose(transpose_AB, transpose_BA)\n",
    "\n",
    "print(\"(A*B)^T :\")\n",
    "print(transpose_AB)\n",
    "\n",
    "print(\"\\n(B^T)*(A^T):\")\n",
    "print(transpose_BA)\n",
    "\n",
    "print(\"\\nIs (AB)^T equal to B^T*A^T?: \",check )\n"
   ]
  },
  {
   "cell_type": "code",
   "execution_count": null,
   "metadata": {
    "colab": {
     "base_uri": "https://localhost:8080/"
    },
    "id": "d4RLCmpqinK_",
    "outputId": "5173b0d4-12b2-44eb-f84a-3fe83cc99345"
   },
   "outputs": [
    {
     "name": "stdout",
     "output_type": "stream",
     "text": [
      "Matrix A:\n",
      "[[ 2 -3  1]\n",
      " [ 1 -1  2]\n",
      " [ 3  1 -1]]\n",
      "\n",
      "Matrix B:\n",
      "[-1 -3  9]\n",
      "\n",
      "X = A^(-1)*B:\n",
      "[ 2.  1. -2.]\n"
     ]
    }
   ],
   "source": [
    "# Linear equation : Inverse Methods\n",
    "# Solve A*X = B  i.e. X = A^(-1)*B\n",
    "\n",
    "A = np.array([[2,-3,1],\n",
    "              [1,-1,2],\n",
    "               [3,1,-1]])\n",
    "\n",
    "B = np.array([-1,-3,9])\n",
    "\n",
    "A_inverse = np.linalg.inv(A)\n",
    "\n",
    "X = np.dot(A_inverse, B)\n",
    "\n",
    "print(\"Matrix A:\")\n",
    "print(A)\n",
    "print(\"\\nMatrix B:\")\n",
    "print(B)\n",
    "print(\"\\nX = A^(-1)*B:\")\n",
    "print(X)"
   ]
  },
  {
   "cell_type": "code",
   "execution_count": null,
   "metadata": {
    "id": "lCW1WXu9p6jQ"
   },
   "outputs": [],
   "source": []
  }
 ],
 "metadata": {
  "colab": {
   "provenance": []
  },
  "kernelspec": {
   "display_name": "Python 3",
   "name": "python3"
  },
  "language_info": {
   "name": "python"
  }
 },
 "nbformat": 4,
 "nbformat_minor": 0
}
