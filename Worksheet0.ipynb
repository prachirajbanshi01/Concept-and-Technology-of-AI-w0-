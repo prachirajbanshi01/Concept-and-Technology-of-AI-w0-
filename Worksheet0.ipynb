{
  "nbformat": 4,
  "nbformat_minor": 0,
  "metadata": {
    "colab": {
      "provenance": []
    },
    "kernelspec": {
      "name": "python3",
      "display_name": "Python 3"
    },
    "language_info": {
      "name": "python"
    }
  },
  "cells": [
    {
      "cell_type": "code",
      "source": [
        "#Task1 : Classify temperature\n",
        "\n",
        "#dataset\n",
        "temperatures = [8.2, 17.4, 14.1, 7.9, 18.0, 13.5, 9.0, 17.8, 13.0, 8.5,\n",
        "16.5, 12.9, 7.7, 17.2, 13.3, 8.4, 16.7, 14.0, 9.5, 18.3, 13.4, 8.1,\n",
        "17.9, 14.2, 7.6, 17.0, 12.8, 8.0, 16.8, 13.7, 7.8, 17.5, 13.6, 8.7,\n",
        "17.1, 13.8, 9.2, 18.1, 13.9, 8.3, 16.4, 12.7, 8.9, 18.2, 13.1, 7.8,\n",
        "16.6, 12.5]\n",
        "\n",
        "cold = []\n",
        "mild = []\n",
        "comfort = []\n",
        "\n",
        "for temp in temperatures:\n",
        "  if temp < 10:\n",
        "    cold.append(temp)\n",
        "  elif temp >= 10 and temp < 15:\n",
        "    mild.append(temp)\n",
        "  elif temp >= 15 and temp < 20:\n",
        "    comfort.append(temp)\n",
        "\n",
        "print(\"Cold (below 10°C): \", cold)\n",
        "print(\"Mild (below 15°C): \", mild)\n",
        "print(\"Comfortable (below 20°C): \", comfort)"
      ],
      "metadata": {
        "id": "hvYnYZvr6392",
        "colab": {
          "base_uri": "https://localhost:8080/"
        },
        "outputId": "b071d503-5587-422d-cbc8-f07eb62ee102"
      },
      "execution_count": null,
      "outputs": [
        {
          "output_type": "stream",
          "name": "stdout",
          "text": [
            "Cold (below 10°C):  [8.2, 7.9, 9.0, 8.5, 7.7, 8.4, 9.5, 8.1, 7.6, 8.0, 7.8, 8.7, 9.2, 8.3, 8.9, 7.8]\n",
            "Mild (below 15°C):  [14.1, 13.5, 13.0, 12.9, 13.3, 14.0, 13.4, 14.2, 12.8, 13.7, 13.6, 13.8, 13.9, 12.7, 13.1, 12.5]\n",
            "Comfortable (below 20°C):  [17.4, 18.0, 17.8, 16.5, 17.2, 16.7, 18.3, 17.9, 17.0, 16.8, 17.5, 17.1, 18.1, 16.4, 18.2, 16.6]\n"
          ]
        }
      ]
    },
    {
      "cell_type": "markdown",
      "source": [],
      "metadata": {
        "id": "6YQBGeaR67Q2"
      }
    },
    {
      "cell_type": "code",
      "source": [
        "#Task2 : Answer all the questions\n",
        "\n",
        "#1 : How many times was it mild?\n",
        "# -> number of items = 16\n",
        "\n",
        "#2 : How many times was it comfortable?\n",
        "# -> number of items = 14\n",
        "\n",
        "#3 : How many times was it cold?\n",
        "# -> number of items = 16\n",
        "\n",
        "#Print out all the outputs.\n",
        "# -> outputs are printed above"
      ],
      "metadata": {
        "id": "z2FHFBclcaTi"
      },
      "execution_count": null,
      "outputs": []
    },
    {
      "cell_type": "code",
      "source": [
        "#Based on data\n",
        "\n",
        "cold = []         # For temperatures below 10°C\n",
        "mild = []         # For temperatures between 10°C and 15°C\n",
        "comfort = []  # For temperatures between 15°C and 20°C\n",
        "\n",
        "#dataset\n",
        "temperatures = [8.2, 17.4, 14.1, 7.9, 18.0, 13.5, 9.0, 17.8, 13.0, 8.5,\n",
        "16.5, 12.9, 7.7, 17.2, 13.3, 8.4, 16.7, 14.0, 9.5, 18.3, 13.4, 8.1,\n",
        "17.9, 14.2, 7.6, 17.0, 12.8, 8.0, 16.8, 13.7, 7.8, 17.5, 13.6, 8.7,\n",
        "17.1, 13.8, 9.2, 18.1, 13.9, 8.3, 16.4, 12.7, 8.9, 18.2, 13.1, 7.8,\n",
        "16.6, 12.5]\n",
        "\n",
        "for temp in temperatures:\n",
        "    if temp < 10:\n",
        "        cold.append(temp)\n",
        "    elif 10 <= temp < 15:\n",
        "        mild.append(temp)\n",
        "    elif 15 <= temp < 20:\n",
        "        comfort.append(temp)\n",
        "\n",
        "#print out the results\n",
        "print(\"Cold temperatures count:\", len(cold))\n",
        "print(\"Mild temperatures count:\", len(mild))\n",
        "print(\"Comfortable temperatures count:\", len(comfort))"
      ],
      "metadata": {
        "colab": {
          "base_uri": "https://localhost:8080/"
        },
        "id": "K2-SC02IJMV4",
        "outputId": "b4eb10f9-3a1a-406e-bc0e-5e49e6061cea"
      },
      "execution_count": 4,
      "outputs": [
        {
          "output_type": "stream",
          "name": "stdout",
          "text": [
            "Cold temperatures count: 16\n",
            "Mild temperatures count: 16\n",
            "Comfortable temperatures count: 16\n"
          ]
        }
      ]
    },
    {
      "cell_type": "code",
      "source": [
        "#Task3 : Convert Temperatures from Celsius to Fahrenheit\n",
        "\n",
        "#dataset\n",
        "temperatures = [8.2, 17.4, 14.1, 7.9, 18.0, 13.5, 9.0, 17.8, 13.0, 8.5,\n",
        "16.5, 12.9, 7.7, 17.2, 13.3, 8.4, 16.7, 14.0, 9.5, 18.3, 13.4, 8.1,\n",
        "17.9, 14.2, 7.6, 17.0, 12.8, 8.0, 16.8, 13.7, 7.8, 17.5, 13.6, 8.7,\n",
        "17.1, 13.8, 9.2, 18.1, 13.9, 8.3, 16.4, 12.7, 8.9, 18.2, 13.1, 7.8,\n",
        "16.6, 12.5]\n",
        "\n",
        "temperatures_fahrenheit = []\n",
        "\n",
        "for temp in temperatures:\n",
        "  fahrenheit = (temp * (9/5)) + 32\n",
        "  temperatures_fahrenheit.append(fahrenheit)\n",
        "\n",
        "print(\"Temperaturein Fahrenheit: \")\n",
        "print(temperatures_fahrenheit)"
      ],
      "metadata": {
        "colab": {
          "base_uri": "https://localhost:8080/"
        },
        "id": "_J24ipILdZy8",
        "outputId": "f6bc4c92-cbee-41b3-c79a-c18cfe34d586"
      },
      "execution_count": null,
      "outputs": [
        {
          "output_type": "stream",
          "name": "stdout",
          "text": [
            "Temperaturein Fahrenheit: \n",
            "[46.76, 63.31999999999999, 57.379999999999995, 46.22, 64.4, 56.3, 48.2, 64.03999999999999, 55.400000000000006, 47.3, 61.7, 55.22, 45.86, 62.96, 55.94, 47.120000000000005, 62.06, 57.2, 49.1, 64.94, 56.120000000000005, 46.58, 64.22, 57.56, 45.68, 62.6, 55.040000000000006, 46.4, 62.24, 56.66, 46.04, 63.5, 56.480000000000004, 47.66, 62.78, 56.84, 48.56, 64.58000000000001, 57.019999999999996, 46.94, 61.519999999999996, 54.86, 48.019999999999996, 64.75999999999999, 55.58, 46.04, 61.88, 54.5]\n"
          ]
        }
      ]
    },
    {
      "cell_type": "code",
      "source": [
        "#Task4 : Analyze Temperature Patterns by Time of Day\n",
        "\n",
        "import matplotlib.pyplot as plt\n",
        "\n",
        "#dataset\n",
        "temperatures = [8.2, 17.4, 14.1, 7.9, 18.0, 13.5, 9.0, 17.8, 13.0, 8.5,\n",
        "16.5, 12.9, 7.7, 17.2, 13.3, 8.4, 16.7, 14.0, 9.5, 18.3, 13.4, 8.1,\n",
        "17.9, 14.2, 7.6, 17.0, 12.8, 8.0, 16.8, 13.7, 7.8, 17.5, 13.6, 8.7,\n",
        "17.1, 13.8, 9.2, 18.1, 13.9, 8.3, 16.4, 12.7, 8.9, 18.2, 13.1, 7.8,\n",
        "16.6, 12.5]\n",
        "\n",
        "#empty lists to store temperatures\n",
        "night = []    # (00-08)\n",
        "evening = []  # (08-16)\n",
        "day = []      # (16-24)\n",
        "\n",
        "for i, temp in enumerate(temperatures):\n",
        "  #assigning value based on their positions\n",
        "  if i % 24 < 8: # night_scale (00-08)\n",
        "    night.append(temp)\n",
        "  elif i % 24 < 16:\n",
        "    evening.append(temp) # evening_scale(08-16)\n",
        "  else: # day_scale(16-24)\n",
        "    day.append(temp)\n",
        "\n",
        "average_day_temperature = sum(day) / len(day)\n",
        "print(\"Night temperatures:\", night)\n",
        "print(\"Evening temperatures:\", evening)\n",
        "print(\"Day temperatures:\", day)\n",
        "print(f\"Average day-time temperature: {average_day_temperature:.2f}\")\n",
        "print()\n",
        "# plot 'day vs. temperature'\n",
        "hours = list(range(48))\n",
        "plt.plot(hours, temperatures, marker='o', label='Temperature')\n",
        "plt.axvspan(0, 8, color='blue', alpha=0.1, label='Night')\n",
        "plt.axvspan(8, 16, color='green', alpha=0.1, label='Evening')\n",
        "plt.axvspan(16, 24, color='orange', alpha=0.1, label='Day')\n",
        "plt.title(\"Hourly Temperature Readings\")\n",
        "plt.xlabel(\"Hour of the Day\")\n",
        "plt.ylabel(\"Temperature (°C)\")\n",
        "plt.xticks(range(0, 24, 2))  # Tick every 2 hours\n",
        "plt.legend()\n",
        "plt.grid()\n",
        "plt.show()\n"
      ],
      "metadata": {
        "id": "iJZbaRE5eVIz",
        "colab": {
          "base_uri": "https://localhost:8080/",
          "height": 559
        },
        "outputId": "17f31aea-5e8b-4567-dafc-f9bba62c3424"
      },
      "execution_count": 7,
      "outputs": [
        {
          "output_type": "stream",
          "name": "stdout",
          "text": [
            "Night temperatures: [8.2, 17.4, 14.1, 7.9, 18.0, 13.5, 9.0, 17.8, 7.6, 17.0, 12.8, 8.0, 16.8, 13.7, 7.8, 17.5]\n",
            "Evening temperatures: [13.0, 8.5, 16.5, 12.9, 7.7, 17.2, 13.3, 8.4, 13.6, 8.7, 17.1, 13.8, 9.2, 18.1, 13.9, 8.3]\n",
            "Day temperatures: [16.7, 14.0, 9.5, 18.3, 13.4, 8.1, 17.9, 14.2, 16.4, 12.7, 8.9, 18.2, 13.1, 7.8, 16.6, 12.5]\n",
            "Average day-time temperature: 13.64\n",
            "\n"
          ]
        },
        {
          "output_type": "display_data",
          "data": {
            "text/plain": [
              "<Figure size 640x480 with 1 Axes>"
            ],
            "image/png": "[encoded data removed]"
          },
          "metadata": {}
        }
      ]
    },
    {
      "cell_type": "markdown",
      "source": [
        "8.1 - Problem based on Popular Algorithm"
      ],
      "metadata": {
        "id": "ltXRHTUEM-Yy"
      }
    },
    {
      "cell_type": "code",
      "source": [
        "#Task1 : Sum of Nested Lists\n",
        "\n",
        "#nested_list = [1,[2,[3,4],5],6,[7,8]]\n",
        "\n",
        "def sum_nested_list(nested_list):\n",
        "  \"\"\"\n",
        "  Calculate the sum of all numbers in a nested list.\n",
        "  This function takes a list that may contain integers and other nested lists.\n",
        "  It recursively traverses the list and sums all the integers, no matter how deeply nested they are.\n",
        "  Args:\n",
        "    nested_list(list): A list that may contain integers or other lists of integers.\n",
        "  Returns:\n",
        "    int: The total sum of all integers in the nested list, including those in sublists.\n",
        "  \"\"\"\n",
        "\n",
        "  total = 0\n",
        "  for element in nested_list:\n",
        "    if isinstance(element, list): #if the item is a list, recursively sum it\n",
        "      total += sum_nested_list(element)\n",
        "    else: #if item is a number, add it to the total\n",
        "      total += element\n",
        "  return total\n",
        "\n",
        "#print the result\n",
        "print(\"Sum of elements in the given nested list\")\n",
        "sum_nested_list([1,[2,[3,4],5],6,[7,8]])\n"
      ],
      "metadata": {
        "colab": {
          "base_uri": "https://localhost:8080/"
        },
        "id": "qEqMPTNxM9KB",
        "outputId": "8293184d-8767-4afb-b44e-15295d648d71"
      },
      "execution_count": null,
      "outputs": [
        {
          "output_type": "stream",
          "name": "stdout",
          "text": [
            "Sum of elements in the given nested list\n"
          ]
        },
        {
          "output_type": "execute_result",
          "data": {
            "text/plain": [
              "36"
            ]
          },
          "metadata": {},
          "execution_count": 3
        }
      ]
    },
    {
      "cell_type": "code",
      "source": [
        "#Task2 : Generate All Permutations of a String\n",
        "\n",
        "#import all permutations function from 'itertools module'\n",
        "from itertools import permutations\n",
        "\n",
        "def generate_permutations(s):\n",
        "  p = permutations(s)\n",
        "\n",
        "  #converts tuple i into a string by joining its elements\n",
        "  result = [''.join(i) for i in p]\n",
        "  # for example: [''.join(('a','b','c'))] ->>> 'abc'\n",
        "  return result\n",
        "\n",
        "s = \"abc\"\n",
        "permutation_list = generate_permutations(s)\n",
        "print(permutation_list)"
      ],
      "metadata": {
        "colab": {
          "base_uri": "https://localhost:8080/"
        },
        "id": "vbiQssqggK8d",
        "outputId": "42bc0e2e-a820-4222-c88b-9cdafa8db87c"
      },
      "execution_count": null,
      "outputs": [
        {
          "output_type": "stream",
          "name": "stdout",
          "text": [
            "['abc', 'acb', 'bac', 'bca', 'cab', 'cba']\n"
          ]
        }
      ]
    },
    {
      "cell_type": "code",
      "source": [
        "#Task3 : Directory Size Calculation\n",
        "\n",
        "def calculate_directory_size(directory):\n",
        "  total_size = 0\n",
        "\n",
        "  for key, value in directory.items():\n",
        "    if isinstance(value, dict):  #if the content is a subdirectory (nested dictionary)\n",
        "      total_size += calculate_directory_size(value)\n",
        "    else: #if the content is a file size\n",
        "      total_size += value\n",
        "\n",
        "  return total_size\n",
        "\n",
        "#sample directory structure\n",
        "directory_structure = {\n",
        "    \"file1.txt\": 200,\n",
        "    \"file2.txt\": 300,\n",
        "    \"subdir1\":{\n",
        "        \"file3.txt\": 400,\n",
        "        \"file4.txt\": 100\n",
        "    },\n",
        "    \"subdir2\":{\n",
        "        \"subsubdir1\":{\n",
        "            \"file5.txt\": 250\n",
        "        },\n",
        "        \"file6.txt\": 150\n",
        "    }\n",
        "}\n",
        "\n",
        "#print the result\n",
        "total_size = calculate_directory_size(directory_structure)\n",
        "print(f\"Total size of the directory: {total_size} KB\")"
      ],
      "metadata": {
        "id": "iFOFqLvdrnoh",
        "colab": {
          "base_uri": "https://localhost:8080/"
        },
        "outputId": "22c21b5b-c512-4b7e-e4c6-e21224a678e4"
      },
      "execution_count": 8,
      "outputs": [
        {
          "output_type": "stream",
          "name": "stdout",
          "text": [
            "Total size of the directory: 1400 KB\n"
          ]
        }
      ]
    },
    {
      "cell_type": "markdown",
      "source": [
        "8.2 - Dynamic Programming"
      ],
      "metadata": {
        "id": "NCQQ776mcN-o"
      }
    },
    {
      "cell_type": "code",
      "source": [
        "#Example: Fibonacci Sequence\n",
        "# top - down approach\n",
        "\n",
        "def fibonacci(n, memo={}):\n",
        "  \"\"\"\n",
        "  Computes the nth Fibonacci number using memoization to optimize the recursive\n",
        "  solution.\n",
        "  This function uses memoization to store previously computed Fibonacci numbers,\n",
        "  reducing redundant calculations and improving performance.\n",
        "  Parameters:\n",
        "  n (int): The index in the Fibonacci sequence for which the value is to be computed.\n",
        "  Must be a non-negative integer.\n",
        "  memo (dict, optional): A dictionary used to store previously computed Fibonacci\n",
        "  values.\n",
        "\n",
        "  It is initialized as an empty dictionary by default and is used\n",
        "  during the recursive calls to avoid recalculating results.\n",
        "\n",
        "  Returns:\n",
        "  int: The nth Fibonacci number.\n",
        "  Example:\n",
        "  >>> fibonacci(5)\n",
        "  5\n",
        "  >>> fibonacci(10)\n",
        "  55\n",
        "  Time Complexity:\n",
        "  - The time complexity is O(n) because each Fibonacci number is computed only once.\n",
        "  Space Complexity:\n",
        "  - The space complexity is O(n) due to the memoization dictionary storing the results.\n",
        "  \"\"\"\n",
        "  if n in memo:\n",
        "    return memo[n]\n",
        "  if n <= 1:\n",
        "    return n\n",
        "  memo[n] = fibonacci(n - 1, memo) + fibonacci(n - 2, memo)\n",
        "  return memo[n]\n",
        "\n",
        "  fibonacci(5)\n"
      ],
      "metadata": {
        "id": "kx49ksE3vPpD"
      },
      "execution_count": null,
      "outputs": []
    },
    {
      "cell_type": "code",
      "source": [
        "#Example: Fibonacci Sequence\n",
        "# bottom - up approach\n",
        "\n",
        "def fibonacci(n):\n",
        "  \"\"\"\n",
        "  Computes the nth Fibonacci number using dynamic programming to optimize the solution.\n",
        "  This function uses a bottom-up dynamic programming approach to calculate the nth\n",
        "  Fibonacci\n",
        "  number by iteratively building up an array of Fibonacci numbers up to n, thus\n",
        "  eliminating\n",
        "  redundant calculations and optimizing performance.\n",
        "  Parameters:\n",
        "\n",
        "  n (int): The index in the Fibonacci sequence for which the value is to be computed.\n",
        "  Must be a non-negative integer.\n",
        "  Returns:\n",
        "  int: The nth Fibonacci number.\n",
        "  Example:\n",
        "  >>> fibonacci(5)\n",
        "  5\n",
        "  >>> fibonacci(10)\n",
        "  55\n",
        "  Time Complexity:\n",
        "  - The time complexity is O(n), as the function iterates through the range 2 to n,\n",
        "  calculating\n",
        "  each Fibonacci number once.\n",
        "  Space Complexity:\n",
        "  - The space complexity is O(n), due to the array used to store the Fibonacci numbers\n",
        "  up to n.\n",
        "  \"\"\"\n",
        "  if n <= 1:\n",
        "    return n\n",
        "  dp = [0] * (n + 1)\n",
        "  dp[1] = 1\n",
        "  for i in range(2, n + 1):\n",
        "    dp[i] = dp[i - 1] + dp[i - 2]\n",
        "  return dp[n]\n",
        "\n",
        "  fibonacci(10)"
      ],
      "metadata": {
        "id": "XCL3L0v5dIXb"
      },
      "execution_count": null,
      "outputs": []
    },
    {
      "cell_type": "code",
      "source": [
        "#Task1 - Coin Change Problem\n",
        "\n",
        "def min_coins(coins, amount):\n",
        "    #initialize a DP array with a large value (representing infinity)\n",
        "    #the size of the DP array is amount + 1, with index i representing the minimum coins needed to make amount i.\n",
        "    dp = [float('inf')] * (amount + 1)\n",
        "\n",
        "    #base case - 0 amount requires 0 coins\n",
        "    dp[0] = 0\n",
        "\n",
        "    #iterate through all possible amounts from 1 to the target amount\n",
        "    for i in range(1, amount + 1):\n",
        "        for coin in coins:\n",
        "            if coin <= i:  #if the coin value is less than or equal to the current amount\n",
        "                dp[i] = min(dp[i], dp[i - coin] + 1)  #take the minimum of the current and the new option\n",
        "\n",
        "    #if dp[amount] is still infinity, it means it's not possible to make the amount with the given coins\n",
        "    return dp[amount] if dp[amount] != float('inf') else -1\n",
        "\n",
        "#test the function with coins = [1, 2, 5] and amount = 11\n",
        "coins = [1, 2, 5]\n",
        "amount = 11\n",
        "result = min_coins(coins, amount)\n",
        "print(f\"The minimum number of coins needed to make {amount} is: {result}\")\n"
      ],
      "metadata": {
        "id": "umCLXWjld49V",
        "colab": {
          "base_uri": "https://localhost:8080/"
        },
        "outputId": "515488f4-ed9c-4b9f-e743-05a71269438d"
      },
      "execution_count": 10,
      "outputs": [
        {
          "output_type": "stream",
          "name": "stdout",
          "text": [
            "The minimum number of coins needed to make 11 is: 3\n"
          ]
        }
      ]
    },
    {
      "cell_type": "code",
      "source": [
        "#Task2 : Longest Common Subsequence\n",
        "\n",
        "def longest_common_subsequence(s1, s2):\n",
        "    \"\"\"\n",
        "    Finds the length of the Longest Common Subsequence (LCS) between two strings using dynamic programming.\n",
        "\n",
        "    Parameters:\n",
        "    s1 (str): The first string.\n",
        "    s2 (str): The second string.\n",
        "\n",
        "    Returns:\n",
        "    int: The length of the LCS between the two strings.\n",
        "    \"\"\"\n",
        "\n",
        "    #initialize the DP table with dimensions (len(s1) + 1) x (len(s2) + 1)\n",
        "    dp = [[0] * (len(s2) + 1) for _ in range(len(s1) + 1)]\n",
        "\n",
        "    #dp table\n",
        "    for i in range(1, len(s1) + 1):\n",
        "        for j in range(1, len(s2) + 1):\n",
        "            if s1[i - 1] == s2[j - 1]:\n",
        "                #if characters match, then increase the LCS length\n",
        "                dp[i][j] = dp[i - 1][j - 1] + 1\n",
        "            else:\n",
        "                #if characters don't match, then take the maximum LCS length\n",
        "                dp[i][j] = max(dp[i - 1][j], dp[i][j - 1])\n",
        "\n",
        "    #length of the LCS\n",
        "    return dp[-1][-1]\n",
        "\n",
        "#test the functions and print out the result\n",
        "print(longest_common_subsequence(\"abcde\", \"ace\"))\n",
        "print(longest_common_subsequence(\"abc\", \"def\"))\n",
        "\n"
      ],
      "metadata": {
        "colab": {
          "base_uri": "https://localhost:8080/"
        },
        "id": "gWmLVUuUqGa0",
        "outputId": "ebb5f6b7-2666-44c3-e6c4-3533b7102e21"
      },
      "execution_count": null,
      "outputs": [
        {
          "output_type": "stream",
          "name": "stdout",
          "text": [
            "3\n",
            "0\n"
          ]
        }
      ]
    },
    {
      "cell_type": "code",
      "source": [
        "#Task 3 : 0/1 Knapsack Problem\n",
        "\n",
        "\n",
        "def knapsack(weights, values, capacity):\n",
        "    n = len(weights)\n",
        "    # Initialize DP table with zeros. dp[i][j] will be the max value for i items and capacity j.\n",
        "    dp = [[0] * (capacity + 1) for _ in range(n + 1)]\n",
        "\n",
        "    # Fill the DP table\n",
        "    for i in range(1, n + 1):\n",
        "        for j in range(1, capacity + 1):\n",
        "            if weights[i - 1] <= j:  # If the item can fit in the current capacity\n",
        "                dp[i][j] = max(dp[i - 1][j], values[i - 1] + dp[i - 1][j - weights[i - 1]])\n",
        "            else:  # If the item cannot fit, exclude it\n",
        "                dp[i][j] = dp[i - 1][j]\n",
        "\n",
        "    # The bottom-right cell will have the maximum value for the full capacity and all items\n",
        "    return dp[n][capacity]\n",
        "\n",
        "# Test the function with sample inputs\n",
        "weights = [1, 3, 4, 5]\n",
        "values = [1, 4, 5, 7]\n",
        "capacity = 7\n",
        "result = knapsack(weights, values, capacity)\n",
        "print(f\"The maximum value that can be carried in the knapsack is: {result}\")\n"
      ],
      "metadata": {
        "id": "YoOF7r9PqVql",
        "colab": {
          "base_uri": "https://localhost:8080/"
        },
        "outputId": "1b8b3d69-71b6-43e3-8bc8-5db370420865"
      },
      "execution_count": 11,
      "outputs": [
        {
          "output_type": "stream",
          "name": "stdout",
          "text": [
            "The maximum value that can be carried in the knapsack is: 9\n"
          ]
        }
      ]
    },
    {
      "cell_type": "code",
      "source": [],
      "metadata": {
        "id": "Zk8DwbmsMNu_"
      },
      "execution_count": null,
      "outputs": []
    }
  ]
}